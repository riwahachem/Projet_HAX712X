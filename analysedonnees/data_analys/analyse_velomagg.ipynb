{
  "cells": [
    {
      "cell_type": "raw",
      "metadata": {},
      "source": [
        "---\n",
        "title: \"Analyse du trafic VéloMagg à Montpellier\"\n",
        "author: \"   \"\n",
        "format: html\n",
        "execute:\n",
        "  echo: true  # Affiche le code\n",
        "  output: true  # Affiche les résultats du code\n",
        "---"
      ],
      "id": "e2d3ea06"
    },
    {
      "cell_type": "markdown",
      "metadata": {},
      "source": [
        "## Chargement des données et traitement initial\n"
      ],
      "id": "ed0fc5cd"
    },
    {
      "cell_type": "code",
      "metadata": {},
      "source": [
        "import pandas as pd\n",
        "import seaborn as sns\n",
        "import matplotlib.pyplot as plt\n",
        "from IPython.display import display\n",
        "\n",
        "#Charger le fichier de données :\n",
        "chemin_fichier = r'C:\\Users\\Clara\\Desktop\\dossier Projet\\TAM_MMM_CoursesVelomagg.csv' \n",
        "df = pd.read_csv(chemin_fichier)\n",
        "\n",
        "# Nettoyer et convertir les dates\n",
        "df['Departure'] = pd.to_datetime(df['Departure'], errors='coerce')\n",
        "df['Return'] = pd.to_datetime(df['Return'], errors='coerce')\n",
        "df.dropna(subset=['Covered distance (m)', 'Duration (sec.)', 'Departure', 'Return'], inplace=True)\n",
        "\n",
        "# Calculer les statistiques descriptives\n",
        "statistiques_descriptives = df[['Covered distance (m)', 'Duration (sec.)']].describe()\n",
        "print(\"Statistiques descriptives :\")\n",
        "display(statistiques_descriptives)  # Utiliser display pour afficher les résultats\n",
        "\n",
        "# Visualisation avec un strip plot\n",
        "plt.figure(figsize=(12, 6))\n",
        "sns.stripplot(x='Covered distance (m)', y='Duration (sec.)', data=df.sample(500), alpha=0.7)\n",
        "plt.title('Swarm Plot de la Durée des Trajets par Distance Parcourue')\n",
        "plt.xlabel('Distance Parcourue (m)')\n",
        "plt.ylabel('Durée (sec.)')\n",
        "plt.grid(True)\n",
        "plt.show()"
      ],
      "id": "14dd03c9",
      "execution_count": null,
      "outputs": []
    }
  ],
  "metadata": {
    "kernelspec": {
      "name": "python3",
      "language": "python",
      "display_name": "Python 3 (ipykernel)"
    }
  },
  "nbformat": 4,
  "nbformat_minor": 5
}