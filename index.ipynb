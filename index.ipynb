{
  "cells": [
    {
      "cell_type": "raw",
      "metadata": {},
      "source": [
        "---\n",
        "title: \"ATVM : Analyse du trafic VéloMagg de Montpellier\"\n",
        "---"
      ],
      "id": "ffd70654"
    },
    {
      "cell_type": "markdown",
      "metadata": {},
      "source": [
        "## 🚴‍♂️  Bienvenue sur **ATVM** !\n",
        "\n",
        "**ATVM**  est un projet dédié à l’étude des données liées aux vélos du réseau VéloMagg de la Métropole de Montpellier. \n",
        "\n",
        "Dans le cadre de ce projet, nous nous sommes concentrés sur :  \n",
        "- 🗂 **Collecte et traitement des données**   \n",
        "- 📊 **Analyses statistiques** \n",
        "- 📈 **Visualisations interactives** \n",
        "\n",
        "###  Installer le package ATVM \n",
        "\n",
        "Pour installer ce package, utilisez simplement la commande suivante dans votre terminal :  \n"
      ],
      "id": "f335aebd"
    },
    {
      "cell_type": "code",
      "metadata": {},
      "source": [
        "pip install git+https://github.com/riwahachem/atvm"
      ],
      "id": "6b2fe77d",
      "execution_count": null,
      "outputs": []
    }
  ],
  "metadata": {
    "kernelspec": {
      "name": "python3",
      "language": "python",
      "display_name": "Python 3 (ipykernel)"
    }
  },
  "nbformat": 4,
  "nbformat_minor": 5
}